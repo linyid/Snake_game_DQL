{
 "cells": [
  {
   "cell_type": "code",
   "execution_count": 100,
   "metadata": {
    "colab": {
     "base_uri": "https://localhost:8080/"
    },
    "id": "oem-VHlJFZug",
    "outputId": "15e9aba2-f639-4772-ed6e-fcb7c24ca734"
   },
   "outputs": [
    {
     "name": "stdout",
     "output_type": "stream",
     "text": [
      "327\n"
     ]
    }
   ],
   "source": [
    "import copy\n",
    "import random\n",
    "import math\n",
    "\n",
    "#random.seed(100)\n",
    "\n",
    "def fn(node,fruit):\n",
    "    x1=node[0]\n",
    "    y1=node[1]\n",
    "    x2=fruit[0]\n",
    "    y2=fruit[1]\n",
    "    hn=math.sqrt((x2-x1)**2+(y2-y1)**2)\n",
    "    cost=abs(x2-x1)+abs(y2-y1)\n",
    "    result=hn+cost\n",
    "    return result\n",
    "\n",
    "def move(snake,fruit,length,width):\n",
    "    head=snake[0][0]\n",
    "    nbs=[(head[0]-1,head[1]),(head[0]+1,head[1]),(head[0],head[1]-1),(head[0],head[1]+1)]\n",
    "    snakes=[]\n",
    "    for nb in nbs:\n",
    "        if nb not in snake[0] and nb[0]!=-1 and nb[0]!=length and nb[1]!=-1 and nb[1]!=width:\n",
    "            new_snake=copy.deepcopy(snake[0])\n",
    "            new_snake.insert(0,nb)\n",
    "            if nb!=fruit:\n",
    "                new_snake.pop()\n",
    "            snakes.append((new_snake,fn(nb,fruit)))\n",
    "    return snakes\n",
    "\n",
    "def astar(board):\n",
    "    length=board[0]\n",
    "    width=board[1]\n",
    "    fruit=(random.randint(0,length-1),random.randint(0,width-1))\n",
    "    start=(random.randint(0,length-1),random.randint(0,width-1))\n",
    "    snakes=[([start],fn(start,fruit))]\n",
    "    score=0\n",
    "    frontier=[]\n",
    "    while snakes:\n",
    "        s=min(snakes,key=lambda x:x[1])\n",
    "        if s[1]==0:\n",
    "          fruit=(random.randint(0,length-1),random.randint(0,width-1))\n",
    "          head=s[0][0]\n",
    "          snake=s[0]\n",
    "          snakes=[(snake,fn(head,fruit))]\n",
    "          score+=1\n",
    "          frontier=[]\n",
    "        else:\n",
    "          snakes.remove(s)\n",
    "        move_result=move(s,fruit,length,width)\n",
    "        for m in move_result:\n",
    "          head=m[0][0]\n",
    "          if head not in frontier:\n",
    "            frontier.append(head)\n",
    "            snakes.append(m)\n",
    "    return score\n",
    "\n",
    "board=(100,100)\n",
    "result=astar(board)\n",
    "print(result)      "
   ]
  },
  {
   "cell_type": "code",
   "execution_count": null,
   "metadata": {
    "id": "ek7rgdkp68gs"
   },
   "outputs": [],
   "source": []
  }
 ],
 "metadata": {
  "colab": {
   "provenance": []
  },
  "kernelspec": {
   "display_name": "Python 3",
   "language": "python",
   "name": "python3"
  },
  "language_info": {
   "codemirror_mode": {
    "name": "ipython",
    "version": 3
   },
   "file_extension": ".py",
   "mimetype": "text/x-python",
   "name": "python",
   "nbconvert_exporter": "python",
   "pygments_lexer": "ipython3",
   "version": "3.8.5"
  }
 },
 "nbformat": 4,
 "nbformat_minor": 4
}
